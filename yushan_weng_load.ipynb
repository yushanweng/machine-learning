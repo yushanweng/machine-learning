{
 "cells": [
  {
   "cell_type": "code",
   "execution_count": 2,
   "metadata": {},
   "outputs": [
    {
     "name": "stderr",
     "output_type": "stream",
     "text": [
      "IOPub data rate exceeded.\n",
      "The notebook server will temporarily stop sending output\n",
      "to the client in order to avoid crashing it.\n",
      "To change this limit, set the config variable\n",
      "`--NotebookApp.iopub_data_rate_limit`.\n",
      "\n",
      "Current values:\n",
      "NotebookApp.iopub_data_rate_limit=1000000.0 (bytes/sec)\n",
      "NotebookApp.rate_limit_window=3.0 (secs)\n",
      "\n"
     ]
    }
   ],
   "source": [
    "import pandas as pd\n",
    "import csv\n",
    "import json\n",
    "import requests\n",
    "import numpy as np\n",
    "\n",
    "#f = open( '/Users/pks19951017/Downloads/restaurant-and-market-health-inspections.csv', 'r' )\n",
    "#reader = csv.DictReader( f, fieldnames = ( \"serial_number\",\"facility_name\",\"score\"))\n",
    "restaurant = pd.read_csv('restaurant-and-market-health-inspections.csv')\n",
    "restaurant_3col=restaurant[['serial_number','facility_name','score']]\n",
    "restaurant_3col = restaurant_3col.copy()\n",
    "restaurant_3col['new_facility_name'] = restaurant_3col['facility_name'].str.replace('[^\\w\\s]','')\n",
    "df_2 = pd.DataFrame(restaurant_3col, columns= ['serial_number', 'new_facility_name']) #create a new DataFrame\n",
    "df_2[\"new_facility_name\"]=df_2[\"new_facility_name\"].astype(str).str.lower()\n",
    "df_new=pd.DataFrame(df_2.new_facility_name.str.split(\" \",expand=True,).values.tolist(),index=df_2['serial_number'])\n",
    "df_new_stack=df_new.stack()\n",
    "df_new_stack_df=pd.DataFrame(df_new_stack)\n",
    "result1 = df_new_stack_df.reset_index(0)\n",
    "\n",
    "from collections import defaultdict\n",
    "data_dict=()\n",
    "mydict=defaultdict(list)\n",
    "serial_length=len(result1.iloc[:,0:1])\n",
    "for j in range(0,serial_length):\n",
    "    if result1.iloc[j, 1] != \"\":\n",
    "        tmp_key=result1.iloc[j,0]\n",
    "        tmp_value=result1.iloc[j,1]\n",
    "        mydict[tmp_value].append(tmp_key)\n",
    "\n",
    "index=restaurant_3col.set_index('serial_number').to_dict('index') #upload three selected columns to firebase\n",
    "index=json.dumps(index)\n",
    "url_index=\"https://web-quickstart-2242c.firebaseio.com/index.json?writeSizeLimit=unlimited\"\n",
    "response_index=requests.put(url_index,index)\n",
    "print(index)\n",
    "inverted_index=mydict\n",
    "inverted_index=json.dumps(inverted_index)\n",
    "url_inverted_index=\"https://web-quickstart-2242c.firebaseio.com/inverted_index.json?writeSizeLimit=unlimited\"\n",
    "response_inverted_index=requests.put(url_inverted_index,inverted_index)\n",
    "\n",
    "\n",
    "\n"
   ]
  },
  {
   "cell_type": "code",
   "execution_count": null,
   "metadata": {},
   "outputs": [],
   "source": []
  }
 ],
 "metadata": {
  "kernelspec": {
   "display_name": "Python 3",
   "language": "python",
   "name": "python3"
  },
  "language_info": {
   "codemirror_mode": {
    "name": "ipython",
    "version": 3
   },
   "file_extension": ".py",
   "mimetype": "text/x-python",
   "name": "python",
   "nbconvert_exporter": "python",
   "pygments_lexer": "ipython3",
   "version": "3.6.9"
  }
 },
 "nbformat": 4,
 "nbformat_minor": 2
}
